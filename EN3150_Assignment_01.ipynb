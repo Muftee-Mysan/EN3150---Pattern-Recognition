{
  "nbformat": 4,
  "nbformat_minor": 0,
  "metadata": {
    "colab": {
      "provenance": []
    },
    "kernelspec": {
      "name": "python3",
      "display_name": "Python 3"
    },
    "language_info": {
      "name": "python"
    }
  },
  "cells": [
    {
      "cell_type": "markdown",
      "source": [
        "#EN3150 Assignment 01\n",
        "#### Muftee M. M. M.      |     220399B"
      ],
      "metadata": {
        "id": "FG1VjIT6FnXj"
      }
    },
    {
      "cell_type": "markdown",
      "source": [
        "## Learning from data and related challanges and linear models for regression"
      ],
      "metadata": {
        "id": "YO-bAQe8Fv3i"
      }
    },
    {
      "cell_type": "markdown",
      "source": [
        "### 1. Linear Regression impact on outliers"
      ],
      "metadata": {
        "id": "Xwg2z9fPF6Vg"
      }
    },
    {
      "cell_type": "code",
      "execution_count": 1,
      "metadata": {
        "id": "F-gI5x3-DrbT"
      },
      "outputs": [],
      "source": [
        "# Step 01: Import necessary libraries\n",
        "import matplotlib.pyplot as plt\n",
        "import numpy as np\n",
        "import pandas as pd\n",
        "import seaborn as sns\n",
        "from sklearn.linear_model import LinearRegression"
      ]
    },
    {
      "cell_type": "code",
      "source": [
        "# Step 02: Define the Data\n",
        "x_i = np.array([0, 1, 2, 3, 4, 5, 6, 7, 8, 9]).reshape(-1, 1)\n",
        "y_i = np.array([20.26, 5.61, 3.14, -30.00, -40.00, -8.13, -11.73, -16.08, -19.95, -24.03])"
      ],
      "metadata": {
        "id": "MCORFdWrD0Vk"
      },
      "execution_count": 2,
      "outputs": []
    },
    {
      "cell_type": "markdown",
      "source": [
        "# Linear Regression Data Preparation Notes\n",
        "\n",
        "## Why use np.array() and reshape()?\n",
        "\n",
        "### np.array() Benefits\n",
        "- **Performance**: Much faster than Python lists\n",
        "- **Compatibility**: Required by ML libraries (scikit-learn, TensorFlow, PyTorch)\n",
        "- **Mathematical operations**: Enables vectorized operations\n",
        "\n",
        "### reshape() for Features (X)\n",
        "Machine learning algorithms need data in specific 2D format:\n",
        "- **X (features)**: Must be `(n_samples, n_features)` shape\n",
        "- Converts 1D list → 2D array so algorithm understands: \"5 samples with 1 feature each\"\n",
        "\n",
        "```python\n",
        "# Before: 1D array (ambiguous)\n",
        "x = [0, 1, 2, 3, 4]  # Is this 5 samples or 1 sample with 5 features?\n",
        "\n",
        "# After: 2D array (clear meaning)\n",
        "x = np.array([0, 1, 2, 3, 4]).reshape(-1, 1)\n",
        "# Shape: (5, 1) = 5 samples, 1 feature each\n",
        "# [[0], [1], [2], [3], [4]]\n",
        "```\n",
        "\n",
        "### reshape() for Target (y)\n",
        "**Usually NOT needed** for simple regression:\n",
        "\n",
        "```python\n",
        "# Most common case - y stays 1D\n",
        "y = np.array([0, 2, 4, 6, 8])  # Shape: (5,) - works fine\n",
        "```\n",
        "\n",
        "**When you DO need to reshape y:**\n",
        "- Multi-target regression: `y.reshape(-1, 2)` for predicting 2 targets\n",
        "- Some libraries require 2D: `y.reshape(-1, 1)`\n",
        "- Neural networks often expect 2D targets\n",
        "\n",
        "### Complete Example\n",
        "```python\n",
        "import numpy as np\n",
        "\n",
        "# Basic setup\n",
        "x = np.array([0, 1, 2, 3, 4]).reshape(-1, 1)  # Shape: (5, 1)\n",
        "y = np.array([0, 2, 4, 6, 8])                 # Shape: (5,)\n",
        "\n",
        "# Alternative (both 2D for consistency)\n",
        "x = np.array([0, 1, 2, 3, 4]).reshape(-1, 1)  # Shape: (5, 1)\n",
        "y = np.array([0, 2, 4, 6, 8]).reshape(-1, 1)  # Shape: (5, 1)\n",
        "```\n",
        "\n",
        "### Key Point\n",
        "- **X**: MUST be 2D (data table format)\n",
        "- **y**: CAN be 1D for single targets, but 2D is safer for compatibility\n",
        "\n",
        "### The -1 Trick\n",
        "`reshape(-1, 1)` means: \"Make 1 column, figure out rows automatically\""
      ],
      "metadata": {
        "id": "K37EMb8-HyuN"
      }
    },
    {
      "cell_type": "code",
      "source": [
        "# Step 03: Visualize the data\n",
        "plt.scatter(x_i, y_i)\n",
        "plt.show()"
      ],
      "metadata": {
        "colab": {
          "base_uri": "https://localhost:8080/",
          "height": 430
        },
        "id": "SE6VrYqtD0ig",
        "outputId": "253e7d73-4cb7-42c7-9b4b-c34cc400aba1"
      },
      "execution_count": 3,
      "outputs": [
        {
          "output_type": "display_data",
          "data": {
            "text/plain": [
              "<Figure size 640x480 with 1 Axes>"
            ],
            "image/png": "[encoded data removed]"
          },
          "metadata": {}
        }
      ]
    },
    {
      "cell_type": "code",
      "source": [
        "# Step 04: Train a Linear Regression Model\n",
        "model = LinearRegression()\n",
        "model.fit(x_i, y_i)\n",
        "y_pred = model.predict(x_i)"
      ],
      "metadata": {
        "id": "uGlnL10oElM6"
      },
      "execution_count": 4,
      "outputs": []
    },
    {
      "cell_type": "code",
      "source": [
        "# Step 05: Print the regression line equation\n",
        "print(f\"Regression Line: y = {model.coef_[0]: .2f}x + {model.intercept_:.2f}\")"
      ],
      "metadata": {
        "colab": {
          "base_uri": "https://localhost:8080/"
        },
        "id": "t7erg_sIKvLG",
        "outputId": "0685c3e3-f594-409d-f5ea-d03f4ef30967"
      },
      "execution_count": 5,
      "outputs": [
        {
          "output_type": "stream",
          "name": "stdout",
          "text": [
            "Regression Line: y = -3.56x + 3.92\n"
          ]
        }
      ]
    },
    {
      "cell_type": "code",
      "source": [
        "#Step 06: Plot the data and regression line\n",
        "plt.scatter(x_i, y_i, color= 'green', label = 'Data Points')\n",
        "plt.plot(x_i, y_pred, color = 'red', label = 'Linear regression line')\n",
        "plt.xlabel('x')\n",
        "plt.ylabel('y')\n",
        "plt.title('Linear Regression with outliers')\n",
        "plt.legend()\n",
        "plt.grid('True')\n",
        "plt.show()"
      ],
      "metadata": {
        "colab": {
          "base_uri": "https://localhost:8080/",
          "height": 472
        },
        "id": "iznaDfatJUhC",
        "outputId": "c6ea7989-99ff-4739-bf80-eec0e3a6b360"
      },
      "execution_count": 6,
      "outputs": [
        {
          "output_type": "display_data",
          "data": {
            "text/plain": [
              "<Figure size 640x480 with 1 Axes>"
            ],
            "image/png": "[encoded data removed]"
          },
          "metadata": {}
        }
      ]
    },
    {
      "cell_type": "markdown",
      "source": [
        "### Introducing a Robust Estimator"
      ],
      "metadata": {
        "id": "IxKCwghLMStW"
      }
    },
    {
      "cell_type": "code",
      "source": [
        "# Define the Data\n",
        "x_i = np.array([0, 1, 2, 3, 4, 5, 6, 7, 8, 9]).reshape(-1, 1)\n",
        "y_i = np.array([20.26, 5.61, 3.14, -30.00, -40.00, -8.13, -11.73, -16.08, -19.95, -24.03])\n",
        "\n",
        "# Define Models\n",
        "def model1(x): return -4 * x + 12\n",
        "def model2(x): return -3.55 * x + 3.91\n",
        "\n",
        "# Predictions for each model\n",
        "y_pred1 = model1(x_i)\n",
        "y_pred2 = model2(x_i)\n",
        "\n",
        "# Define the Robust Loss Function\n",
        "def robust_loss(y_i, y_pred, beta):\n",
        "  residual_squared = (y_i - y_pred) ** 2\n",
        "  loss = residual_squared / (residual_squared + beta ** 2)\n",
        "  return np.mean(loss)\n",
        "\n",
        "# Define Beta values\n",
        "betas = [1, 1e-6, 1e3]\n",
        "\n",
        "# Calculate and print loss\n",
        "print(\"Beta\\t\\t Loss(Model 01)\\t\\t Loss(Model 02)\")\n",
        "for beta in betas:\n",
        "  loss1 = robust_loss(y_i, y_pred1, beta)\n",
        "  loss2 = robust_loss(y_i, y_pred2, beta)\n",
        "  print(f\"{beta:.0e}\\t\\t{loss1:.6f}\\t\\t{loss2:.6f}\")"
      ],
      "metadata": {
        "colab": {
          "base_uri": "https://localhost:8080/"
        },
        "id": "Ic5RNvOjLTWf",
        "outputId": "c7a1f75b-0cd5-4e24-a6e3-6a1fe7c4193c"
      },
      "execution_count": 7,
      "outputs": [
        {
          "output_type": "stream",
          "name": "stdout",
          "text": [
            "Beta\t\t Loss(Model 01)\t\t Loss(Model 02)\n",
            "1e+00\t\t0.929811\t\t0.949055\n",
            "1e-06\t\t1.000000\t\t1.000000\n",
            "1e+03\t\t0.000461\t\t0.000396\n"
          ]
        }
      ]
    },
    {
      "cell_type": "code",
      "source": [],
      "metadata": {
        "id": "MAH6PocHOoTb"
      },
      "execution_count": 7,
      "outputs": []
    }
  ]
}